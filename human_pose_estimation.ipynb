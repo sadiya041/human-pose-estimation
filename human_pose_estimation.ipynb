{
 "cells": [
  {
   "cell_type": "code",
   "execution_count": 1,
   "id": "0b783325",
   "metadata": {},
   "outputs": [],
   "source": [
    "!git clone https://github.com/mdsadiya041/human-pose-estimation.git"
   ]
  },
  {
   "cell_type": "code",
   "execution_count": 2,
   "id": "fb921147",
   "metadata": {},
   "outputs": [],
   "source": [
    "import shutil\n",
    "\n",
    "# Move your project files to the repository folder\n",
    "shutil.move(\"your_script.py\", \"/content/human-pose-estimation/\")\n",
    "shutil.move(\"output.avi\", \"/content/human-pose-estimation/\")"
   ]
  },
  {
   "cell_type": "code",
   "execution_count": 3,
   "id": "8a24e217",
   "metadata": {},
   "outputs": [],
   "source": [
    "from google.colab import files\n",
    "files.download(\"human_pose_estimation.ipynb\")"
   ]
  },
  {
   "cell_type": "code",
   "execution_count": 4,
   "id": "8da5f0db",
   "metadata": {},
   "outputs": [],
   "source": [
    "from google.colab import files\n",
    "files.download(\"human_pose_estimation.ipynb\")"
   ]
  },
  {
   "cell_type": "code",
   "execution_count": 5,
   "id": "5c1434db",
   "metadata": {},
   "outputs": [],
   "source": [
    "from google.colab import files\n",
    "files.download(\"human_pose_estimation.ipynb\")"
   ]
  },
  {
   "cell_type": "code",
   "execution_count": 6,
   "id": "18e7f53a",
   "metadata": {},
   "outputs": [],
   "source": [
    "from google.colab import files\n",
    "files.download(\"human_pose_estimation.ipynb\")"
   ]
  },
  {
   "cell_type": "code",
   "execution_count": 7,
   "id": "e3630518",
   "metadata": {},
   "outputs": [],
   "source": [
    "from google.colab import files\n",
    "files.download(\"human_pose_estimation.ipynb\")"
   ]
  }
 ],
 "metadata": {},
 "nbformat": 4,
 "nbformat_minor": 5
}
